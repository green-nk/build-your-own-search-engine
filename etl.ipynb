{
 "cells": [
  {
   "cell_type": "code",
   "execution_count": 1,
   "id": "b5ca0bcd",
   "metadata": {},
   "outputs": [],
   "source": [
    "import docx\n",
    "import json\n",
    "import io\n",
    "import requests"
   ]
  },
  {
   "cell_type": "code",
   "execution_count": 2,
   "id": "9aade4f2",
   "metadata": {},
   "outputs": [],
   "source": [
    "def clean_text(t):\n",
    "    \"\"\"\n",
    "    Clean text\n",
    "    - Remove leading and trailing whitespaces\n",
    "    - Remove leading and trailing \\uFEFF bytes\n",
    "    \"\"\"\n",
    "    return t.strip().strip(\"\\uFEFF\")\n",
    "\n",
    "\n",
    "def read_faq(file_id):\n",
    "    \"\"\"\n",
    "    Read and parse FAQ document by file ID.\n",
    "    \"\"\"\n",
    "    url = f\"https://docs.google.com/document/d/{file_id}/export?format=docx\"\n",
    "\n",
    "    response = requests.get(url)\n",
    "    response.raise_for_status()\n",
    "\n",
    "    with io.BytesIO(response.content) as f:\n",
    "        document = docx.Document(f)\n",
    "\n",
    "    questions = []\n",
    "    section = \"\"\n",
    "    question = \"\"\n",
    "    answer_so_far = \"\"\n",
    "\n",
    "    is_header = True\n",
    "\n",
    "    for l in document.paragraphs:\n",
    "        style = l.style.name.lower()\n",
    "        content = clean_text(l.text)\n",
    "        \n",
    "        if len(content) == 0:\n",
    "            continue\n",
    "        \n",
    "        if style == \"heading 1\":\n",
    "            section = content\n",
    "            continue\n",
    "    \n",
    "        if style == \"heading 2\":\n",
    "            if is_header: is_header = False\n",
    "            else:\n",
    "                answer_so_far = answer_so_far.strip()\n",
    "                if section != \"\" and question != \"\" and answer_so_far != \"\":\n",
    "                    questions.append({\n",
    "                        \"section\": section, \n",
    "                        \"question\": question, \n",
    "                        \"answer\": answer_so_far\n",
    "                    })\n",
    "\n",
    "                    answer_so_far = \"\"\n",
    "                \n",
    "            question = content\n",
    "            continue\n",
    "        \n",
    "        # Skip the content before the first question\n",
    "        if not is_header: answer_so_far += \"\\n\" + content    \n",
    "    \n",
    "    answer_so_far = answer_so_far.strip()\n",
    "    if section != \"\" and question != \"\" and answer_so_far != \"\":\n",
    "        questions.append({\n",
    "            \"section\": section, \n",
    "            \"question\": question, \n",
    "            \"answer\": answer_so_far\n",
    "        })\n",
    "\n",
    "    return questions"
   ]
  },
  {
   "cell_type": "code",
   "execution_count": 3,
   "id": "650a4681",
   "metadata": {},
   "outputs": [],
   "source": [
    "FAQ_DOCUMENTS = {\n",
    "    \"data-engineering-zoomcamp\": \"19bnYs80DwuUimHM65UV3sylsCn2j1vziPOwzBwQrebw\", \n",
    "    \"machine-learning-zoomcamp\": \"1LpPanc33QJJ6BSsyxVg-pWNMplal84TdZtq10naIhD8\", \n",
    "    \"mlops-zoomcamp\": \"12TlBfhIiKtyBv8RnsoJR6F72bkPDGEvPOItJIxaEzE0\"\n",
    "}"
   ]
  },
  {
   "cell_type": "code",
   "execution_count": 4,
   "id": "ce1afb5c",
   "metadata": {},
   "outputs": [],
   "source": [
    "faq_documents = [{\"course\": course, \"documents\": read_faq(file_id)} for course, file_id in FAQ_DOCUMENTS.items()]"
   ]
  },
  {
   "cell_type": "code",
   "execution_count": 5,
   "id": "0d7ff2e7",
   "metadata": {},
   "outputs": [],
   "source": [
    "with open(\"data/documents.json\", \"w\") as f:\n",
    "    json.dump(faq_documents, f, indent=4)"
   ]
  },
  {
   "cell_type": "code",
   "execution_count": 6,
   "id": "ff2102f0",
   "metadata": {},
   "outputs": [
    {
     "name": "stdout",
     "output_type": "stream",
     "text": [
      "[\n",
      "    {\n",
      "        \"course\": \"data-engineering-zoomcamp\",\n",
      "        \"documents\": [\n",
      "            {\n",
      "                \"section\": \"General course-related questions\",\n",
      "                \"question\": \"Course - When will the course start\\uff1f\",\n",
      "                \"answer\": \"The next cohort starts January 13th 2025. More info at DTC Article.\\nRegister before the course starts using this link.\\nJoint the course Telegram channel with announcements.\\nDon\\u2019t forget to register in DataTalks.Club's Slack and join the channel.\"\n",
      "            },\n",
      "            {\n"
     ]
    }
   ],
   "source": [
    "!head data/documents.json"
   ]
  },
  {
   "cell_type": "code",
   "execution_count": null,
   "id": "1b21af5c-2f6d-49e7-92e9-ca229e2473b9",
   "metadata": {},
   "outputs": [],
   "source": []
  }
 ],
 "metadata": {
  "kernelspec": {
   "display_name": "Python 3",
   "language": "python",
   "name": "python3"
  },
  "language_info": {
   "codemirror_mode": {
    "name": "ipython",
    "version": 3
   },
   "file_extension": ".py",
   "mimetype": "text/x-python",
   "name": "python",
   "nbconvert_exporter": "python",
   "pygments_lexer": "ipython3",
   "version": "3.12.1"
  }
 },
 "nbformat": 4,
 "nbformat_minor": 5
}
