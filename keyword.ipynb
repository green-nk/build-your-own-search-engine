{
 "cells": [
  {
   "cell_type": "code",
   "execution_count": 1,
   "metadata": {},
   "outputs": [],
   "source": [
    "import json\n",
    "import numpy as np\n",
    "import pandas as pd\n",
    "import requests\n",
    "\n",
    "from sklearn.feature_extraction.text import TfidfVectorizer\n",
    "from sklearn.metrics.pairwise import cosine_similarity"
   ]
  },
  {
   "cell_type": "markdown",
   "metadata": {},
   "source": [
    "### Document Loader"
   ]
  },
  {
   "cell_type": "code",
   "execution_count": 2,
   "metadata": {},
   "outputs": [],
   "source": [
    "# Document Loader from the workshop\n",
    "# response = requests.get(\"https://github.com/alexeygrigorev/llm-rag-workshop/raw/main/notebooks/documents.json\")\n",
    "# documents = response.json()\n",
    "# document_df = pd.json_normalize(documents, record_path=\"documents\", meta=\"course\").rename(columns={\"text\": \"answer\"}).reindex(columns=[\"course\", \"section\", \"question\", \"answer\"])\n",
    "\n",
    "# Document Loader from etl.ipynb\n",
    "with open(\"data/documents.json\") as f:\n",
    "    documents = json.load(f)\n",
    "\n",
    "document_df = pd.json_normalize(documents, record_path=\"documents\", meta=\"course\").reindex(columns=[\"course\", \"section\", \"question\", \"answer\"])"
   ]
  },
  {
   "cell_type": "markdown",
   "metadata": {},
   "source": [
    "### Search"
   ]
  },
  {
   "cell_type": "code",
   "execution_count": 3,
   "metadata": {},
   "outputs": [],
   "source": [
    "class KeywordSearch:\n",
    "    def __init__(self, fields):\n",
    "        self.fields = fields\n",
    "        self.indexes = {}\n",
    "        self.vectorizers = {}\n",
    "\n",
    "    def index(self, document_df, vectorizer_params=None):\n",
    "        if vectorizer_params is None: vectorizer_params = {}\n",
    "\n",
    "        for field in self.fields:\n",
    "            vectorizer = TfidfVectorizer(**vectorizer_params)\n",
    "            D = vectorizer.fit_transform(document_df[field])\n",
    "            \n",
    "            self.indexes[field] = D\n",
    "            self.vectorizers[field] = vectorizer\n",
    "        \n",
    "        self.indexes[\"document\"] = document_df\n",
    "\n",
    "    def search(self, query, k=5, weights=None, filters=None):\n",
    "        if weights is None: weights = {\"question\": 3}\n",
    "\n",
    "        if filters is None: filters = {}\n",
    "        document_df = self.indexes[\"document\"]\n",
    "        filtered_document_df = document_df[(document_df[filters.keys()] == pd.Series(filters)).all(axis=1)]\n",
    "\n",
    "        scores = np.zeros(len(filtered_document_df))\n",
    "\n",
    "        for field in self.fields:\n",
    "            w = weights.get(field, 1)\n",
    "            q = self.vectorizers[field].transform([query])\n",
    "\n",
    "            scores += w * cosine_similarity(q, self.indexes[field][filtered_document_df.index.values]).reshape(-1)\n",
    "\n",
    "        idx = np.argsort(-scores)[:k]\n",
    "        search_results = filtered_document_df.iloc[idx]\n",
    "\n",
    "        return search_results"
   ]
  },
  {
   "cell_type": "markdown",
   "metadata": {},
   "source": [
    "Note that we can use another word representation instead of TF-IDF such as Bag-of-Words which in *scikit-learn* is a class called `CountVectorizer`."
   ]
  },
  {
   "cell_type": "code",
   "execution_count": 4,
   "metadata": {},
   "outputs": [],
   "source": [
    "# Indexing: vector representation via TF-IDF\n",
    "engine = KeywordSearch([\"section\", \"question\", \"answer\"])\n",
    "engine.index(document_df, vectorizer_params={\"stop_words\": \"english\", \"min_df\": 3})"
   ]
  },
  {
   "cell_type": "code",
   "execution_count": 5,
   "metadata": {},
   "outputs": [
    {
     "data": {
      "text/plain": [
       "[{'course': 'data-engineering-zoomcamp',\n",
       "  'section': 'General course-related questions',\n",
       "  'question': 'Course - Can I still join the course after the start date?',\n",
       "  'answer': \"Yes, even if you don't register, you're still eligible to submit the homeworks.\\nBe aware, however, that there will be deadlines for turning in the final projects. So don't leave everything for the last minute.\"},\n",
       " {'course': 'data-engineering-zoomcamp',\n",
       "  'section': 'General course-related questions',\n",
       "  'question': 'Course - What are the prerequisites for this course?',\n",
       "  'answer': 'GitHub - See DE-zoomcamp  prerequisites'},\n",
       " {'course': 'data-engineering-zoomcamp',\n",
       "  'section': 'General course-related questions',\n",
       "  'question': 'Course - What can I do before the course starts?',\n",
       "  'answer': 'You can start by installing and setting up all the dependencies and requirements:\\nGoogle cloud account\\nGoogle Cloud SDK\\nPython 3 (installed with Anaconda)\\nTerraform\\nGit\\nLook over the prerequisites and syllabus to see if you are comfortable with these subjects.'},\n",
       " {'course': 'data-engineering-zoomcamp',\n",
       "  'section': 'General course-related questions',\n",
       "  'question': 'How can we contribute to the course?',\n",
       "  'answer': 'Star the repo! Share it with friends if you find it useful ❣️\\nCreate a PR if you see you can improve the text or the structure of the repository.'},\n",
       " {'course': 'data-engineering-zoomcamp',\n",
       "  'section': 'General course-related questions',\n",
       "  'question': 'Course - When will the course start？',\n",
       "  'answer': \"The next cohort starts January 13th 2025. More info at DTC Article.\\nRegister before the course starts using this link.\\nJoint the course Telegram channel with announcements.\\nDon’t forget to register in DataTalks.Club's Slack and join the channel.\"}]"
      ]
     },
     "execution_count": 5,
     "metadata": {},
     "output_type": "execute_result"
    }
   ],
   "source": [
    "# IR: Cosine Similarity\n",
    "search_results = engine.search(\n",
    "    query=\"I just signed up. Is it too late to join the course?\",\n",
    "    k=5,\n",
    "    filters={\"course\": \"data-engineering-zoomcamp\"}\n",
    ").to_dict(orient=\"records\")\n",
    "\n",
    "search_results"
   ]
  },
  {
   "cell_type": "code",
   "execution_count": null,
   "metadata": {},
   "outputs": [],
   "source": []
  }
 ],
 "metadata": {
  "kernelspec": {
   "display_name": "Python 3",
   "language": "python",
   "name": "python3"
  },
  "language_info": {
   "codemirror_mode": {
    "name": "ipython",
    "version": 3
   },
   "file_extension": ".py",
   "mimetype": "text/x-python",
   "name": "python",
   "nbconvert_exporter": "python",
   "pygments_lexer": "ipython3",
   "version": "3.12.1"
  }
 },
 "nbformat": 4,
 "nbformat_minor": 2
}
